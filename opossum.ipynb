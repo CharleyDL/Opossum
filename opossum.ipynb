{
 "cells": [
  {
   "cell_type": "markdown",
   "metadata": {},
   "source": [
    "<h1><center>Zoologie - Age Opossum</center></h1>\n",
    "\n",
    "<center><img src=\"https://simplonline.co/_next/image?url=https%3A%2F%2Fsimplonline-v3-prod.s3.eu-west-3.amazonaws.com%2Fmedia%2Fimage%2Fjpg%2F9a28a1bd-a3fd-4d3b-ba0e-90a96d44ceb0.jpg&w=1280&q=75\" alt=\"Opossum\" title=\"Opossum\"  style=\"object-fit:cover; width:800px; height:250px;\"/></center>"
   ]
  },
  {
   "cell_type": "markdown",
   "metadata": {},
   "source": [
    "> __*Created by Charley lebarbier*__"
   ]
  },
  {
   "cell_type": "markdown",
   "metadata": {},
   "source": [
    "## Objectives :  \n",
    "*Un groupe de zoologistes vous fournit une dataset regroupant les caractéristiques d'opossums qu'ils ont étudiés et vous* *demande un programme capable de prédire l'âge d'un opossum à partir de ses caractéristiques.*\n",
    "\n",
    "https://fr.wikipedia.org/wiki/Opossum\n",
    "\n",
    "## Others :\n",
    "\n",
    "- Les données ont été analysées et il existe une trace de cette analyse exploratoire dans un jupyter-notebook  \n",
    "- Le score obtenu (RMSE, R-Squared)  \n",
    "- Un programme qui fonctionne sans bug, et qui prédit au mieux la taille d'un opossum à partir de ces caractéristiques"
   ]
  },
  {
   "cell_type": "markdown",
   "metadata": {},
   "source": [
    "____________________________________\n",
    "____________________________________"
   ]
  },
  {
   "cell_type": "markdown",
   "metadata": {},
   "source": [
    "<center><h2>EDA - Exploratory Data Analysis</h2></center>"
   ]
  },
  {
   "cell_type": "markdown",
   "metadata": {},
   "source": [
    "#### Working Environnement Preparation"
   ]
  },
  {
   "cell_type": "code",
   "execution_count": 30,
   "metadata": {},
   "outputs": [],
   "source": [
    "# Import Libraries\n",
    "import joblib\n",
    "import matplotlib.pyplot as plt\n",
    "import numpy as np\n",
    "import pandas as pd\n",
    "import seaborn as sns\n",
    "import warnings\n",
    "\n",
    "from math import sqrt\n",
    "from numpy import mean\n",
    "from sklearn import linear_model\n",
    "from sklearn import neighbors\n",
    "from sklearn.impute import SimpleImputer\n",
    "from sklearn.linear_model import LinearRegression\n",
    "from sklearn.metrics import confusion_matrix\n",
    "from sklearn.metrics import mean_squared_error \n",
    "from sklearn.metrics import r2_score\n",
    "from sklearn.model_selection import train_test_split, GridSearchCV\n",
    "from sklearn.neighbors import KNeighborsRegressor\n",
    "from sklearn.preprocessing import PolynomialFeatures\n",
    "from sklearn.preprocessing import LabelEncoder\n",
    "from sklearn.preprocessing import MinMaxScaler\n",
    "from sklearn.preprocessing import RobustScaler\n",
    "from sklearn.preprocessing import StandardScaler\n",
    "\n",
    "warnings.filterwarnings('ignore')\n",
    "plt.style.use('fivethirtyeight')\n",
    "\n",
    "%matplotlib inline"
   ]
  },
  {
   "cell_type": "code",
   "execution_count": 5,
   "metadata": {},
   "outputs": [
    {
     "name": "stdout",
     "output_type": "stream",
     "text": [
      "   case  site  Pop sex  age  hdlngth  skullw  totlngth  taill  footlgth  \\\n",
      "0     1     1  Vic   m  8.0     94.1    60.4      89.0   36.0      74.5   \n",
      "1     2     1  Vic   f  6.0     92.5    57.6      91.5   36.5      72.5   \n",
      "2     3     1  Vic   f  6.0     94.0    60.0      95.5   39.0      75.4   \n",
      "3     4     1  Vic   f  6.0     93.2    57.1      92.0   38.0      76.1   \n",
      "4     5     1  Vic   f  2.0     91.5    56.3      85.5   36.0      71.0   \n",
      "\n",
      "   earconch   eye  chest  belly  \n",
      "0      54.5  15.2   28.0   36.0  \n",
      "1      51.2  16.0   28.5   33.0  \n",
      "2      51.9  15.5   30.0   34.0  \n",
      "3      52.2  15.2   28.0   34.0  \n",
      "4      53.2  15.1   28.5   33.0  \n",
      "     case  site    Pop sex  age  hdlngth  skullw  totlngth  taill  footlgth  \\\n",
      "99    100     7  other   m  1.0     89.5    56.0      81.5   36.5      66.0   \n",
      "100   101     7  other   m  1.0     88.6    54.7      82.5   39.0      64.4   \n",
      "101   102     7  other   f  6.0     92.4    55.0      89.0   38.0      63.5   \n",
      "102   103     7  other   m  4.0     91.5    55.2      82.5   36.5      62.9   \n",
      "103   104     7  other   f  3.0     93.6    59.9      89.0   40.0      67.6   \n",
      "\n",
      "     earconch   eye  chest  belly  \n",
      "99       46.8  14.8   23.0   27.0  \n",
      "100      48.0  14.0   25.0   33.0  \n",
      "101      45.4  13.0   25.0   30.0  \n",
      "102      45.9  15.4   25.0   29.0  \n",
      "103      46.0  14.8   28.5   33.5  \n"
     ]
    }
   ],
   "source": [
    "# Import dataset in a variable\n",
    "#\n",
    "dataset = pd.read_csv('opossum.csv')\n",
    "\n",
    "# Check the import\n",
    "print(dataset.head())\n",
    "print(dataset.tail())"
   ]
  },
  {
   "cell_type": "markdown",
   "metadata": {},
   "source": [
    "#### Get informations about our dataset"
   ]
  },
  {
   "cell_type": "code",
   "execution_count": 3,
   "metadata": {},
   "outputs": [
    {
     "name": "stdout",
     "output_type": "stream",
     "text": [
      "<class 'pandas.core.frame.DataFrame'>\n",
      "RangeIndex: 104 entries, 0 to 103\n",
      "Data columns (total 14 columns):\n",
      " #   Column    Non-Null Count  Dtype  \n",
      "---  ------    --------------  -----  \n",
      " 0   case      104 non-null    int64  \n",
      " 1   site      104 non-null    int64  \n",
      " 2   Pop       104 non-null    object \n",
      " 3   sex       104 non-null    object \n",
      " 4   age       102 non-null    float64\n",
      " 5   hdlngth   104 non-null    float64\n",
      " 6   skullw    104 non-null    float64\n",
      " 7   totlngth  104 non-null    float64\n",
      " 8   taill     104 non-null    float64\n",
      " 9   footlgth  103 non-null    float64\n",
      " 10  earconch  104 non-null    float64\n",
      " 11  eye       104 non-null    float64\n",
      " 12  chest     104 non-null    float64\n",
      " 13  belly     104 non-null    float64\n",
      "dtypes: float64(10), int64(2), object(2)\n",
      "memory usage: 11.5+ KB\n",
      "None \n",
      "\n",
      "             case        site         age     hdlngth      skullw    totlngth  \\\n",
      "count  104.000000  104.000000  102.000000  104.000000  104.000000  104.000000   \n",
      "mean    52.500000    3.625000    3.833333   92.602885   56.883654   87.088462   \n",
      "std     30.166206    2.349086    1.909244    3.573349    3.113426    4.310549   \n",
      "min      1.000000    1.000000    1.000000   82.500000   50.000000   75.000000   \n",
      "25%     26.750000    1.000000    2.250000   90.675000   54.975000   84.000000   \n",
      "50%     52.500000    3.000000    3.000000   92.800000   56.350000   88.000000   \n",
      "75%     78.250000    6.000000    5.000000   94.725000   58.100000   90.000000   \n",
      "max    104.000000    7.000000    9.000000  103.100000   68.600000   96.500000   \n",
      "\n",
      "            taill    footlgth    earconch         eye       chest       belly  \n",
      "count  104.000000  103.000000  104.000000  104.000000  104.000000  104.000000  \n",
      "mean    37.009615   68.459223   48.130769   15.046154   27.000000   32.586538  \n",
      "std      1.959518    4.395306    4.109380    1.050374    2.045597    2.761949  \n",
      "min     32.000000   60.300000   40.300000   12.800000   22.000000   25.000000  \n",
      "25%     35.875000   64.600000   44.800000   14.400000   25.500000   31.000000  \n",
      "50%     37.000000   68.000000   46.800000   14.900000   27.000000   32.500000  \n",
      "75%     38.000000   72.500000   52.000000   15.725000   28.000000   34.125000  \n",
      "max     43.000000   77.900000   56.200000   17.800000   32.000000   40.000000  \n"
     ]
    }
   ],
   "source": [
    "# Get information and description about our dataset\n",
    "\n",
    "print(dataset.info(), '\\n')           # give infos about the types of each cols\n",
    "print(dataset.describe())       # give infos about the stats of our datasets"
   ]
  },
  {
   "cell_type": "code",
   "execution_count": null,
   "metadata": {},
   "outputs": [],
   "source": [
    "# Check if missing value\n",
    "\n",
    "# dataset.isnull().values.any()   # True / False : give a fast answer\n",
    "dataset.isnull().sum()       # Low -> cause calcul each value, give where data is missing"
   ]
  },
  {
   "cell_type": "code",
   "execution_count": null,
   "metadata": {},
   "outputs": [],
   "source": [
    "# Display the amount of missing values to decide the strategy to adopt : drop or replace\n",
    "\n",
    "sns.heatmap(dataset.isnull(), cbar=False, cmap='viridis');\n",
    "plt.show()"
   ]
  },
  {
   "cell_type": "markdown",
   "metadata": {},
   "source": [
    "#### Data Cleaning"
   ]
  },
  {
   "cell_type": "code",
   "execution_count": 6,
   "metadata": {},
   "outputs": [],
   "source": [
    "# First Strategy : Drop NaN\n",
    "# dataset.dropna()\n",
    "\n",
    "# Second Strategy : Replace NaN - SimpleImputer\n",
    "imputer = SimpleImputer(missing_values=pd.NA, strategy='median')      # mean; median; most frequent ; renvoie un np.array\n",
    "dataset[['age','footlgth']] = pd.DataFrame(imputer.fit_transform(dataset[['age','footlgth']]))"
   ]
  },
  {
   "cell_type": "code",
   "execution_count": null,
   "metadata": {},
   "outputs": [],
   "source": [
    "# Check the modification and / or display it\n",
    "#\n",
    "dataset.isnull().sum()"
   ]
  },
  {
   "cell_type": "markdown",
   "metadata": {},
   "source": [
    "#### EDA : Asking Analytical Questions and Visualizations\n",
    "*NB: each graph need an explanation, create a markdown '__Conclusion :__' after each one or grap (of graphs)*"
   ]
  },
  {
   "cell_type": "code",
   "execution_count": 7,
   "metadata": {},
   "outputs": [],
   "source": [
    "# Drop the column case not useful for our EDA\n",
    "dataset = dataset.drop(['case'], axis=1)\n",
    "#dataset.head()"
   ]
  },
  {
   "cell_type": "markdown",
   "metadata": {},
   "source": [
    "#### Data Encodage"
   ]
  },
  {
   "cell_type": "code",
   "execution_count": 8,
   "metadata": {},
   "outputs": [],
   "source": [
    "le = LabelEncoder()\n",
    "dataset.sex = le.fit_transform(dataset.sex)\n",
    "dataset.Pop = le.fit_transform(dataset.Pop)\n",
    "\n",
    "#dataset.head()"
   ]
  },
  {
   "cell_type": "markdown",
   "metadata": {},
   "source": [
    "#### Corrélation"
   ]
  },
  {
   "cell_type": "code",
   "execution_count": null,
   "metadata": {},
   "outputs": [],
   "source": [
    "# First of all, look the correlation\n",
    "# Display a heatmap plot\n",
    "\n",
    "sns.heatmap(dataset.corr(method='spearman'), cbar=True, annot=True, cmap='RdBu', fmt='.2f');\n",
    "\n",
    "fig= plt.gcf()\n",
    "fig.set_size_inches(10,10)\n",
    "plt.show()"
   ]
  },
  {
   "cell_type": "markdown",
   "metadata": {},
   "source": [
    "__Conclusion about Heatmap :__\n",
    "\n",
    "*Les corrélations restent assez faible concernant l'âge et les autres features, néanmoins on peut en remarquer 6 qui sont au-dessus de 20%.*\n",
    "- Corrélation positive âge avec :  \n",
    "    - hdlngth\n",
    "    - skullw\n",
    "    - totlngth\n",
    "    - eye\n",
    "    - chest\n",
    "    - belly\n",
    "\n",
    "*Par ailleurs le sexe, l'espèce ou encore le lieu d'habitation n'a aucun incidence sur l'âge*\n",
    "</br>"
   ]
  },
  {
   "cell_type": "markdown",
   "metadata": {},
   "source": [
    "#### Age / Hdlngth"
   ]
  },
  {
   "cell_type": "code",
   "execution_count": null,
   "metadata": {},
   "outputs": [],
   "source": [
    "sns.violinplot(data=dataset, x='age', y='hdlngth');\n",
    "plt.title('')\n",
    "\n",
    "fig= plt.gcf()\n",
    "fig.set_size_inches(8,4)\n",
    "plt.show()"
   ]
  },
  {
   "cell_type": "code",
   "execution_count": null,
   "metadata": {},
   "outputs": [],
   "source": [
    "print(dataset.groupby('age')['hdlngth'].median())"
   ]
  },
  {
   "cell_type": "markdown",
   "metadata": {},
   "source": [
    "#### Age / Skullw"
   ]
  },
  {
   "cell_type": "code",
   "execution_count": null,
   "metadata": {},
   "outputs": [],
   "source": [
    "sns.violinplot(data=dataset, x='age', y='skullw');\n",
    "plt.title('')\n",
    "\n",
    "fig= plt.gcf()\n",
    "fig.set_size_inches(8,4)\n",
    "plt.show()"
   ]
  },
  {
   "cell_type": "code",
   "execution_count": null,
   "metadata": {},
   "outputs": [],
   "source": [
    "print(dataset.groupby('age')['skullw'].median())"
   ]
  },
  {
   "cell_type": "markdown",
   "metadata": {},
   "source": [
    "#### Age / Totlngth"
   ]
  },
  {
   "cell_type": "code",
   "execution_count": null,
   "metadata": {},
   "outputs": [],
   "source": [
    "sns.violinplot(data=dataset, x='age', y='totlngth');\n",
    "plt.title('')\n",
    "\n",
    "fig= plt.gcf()\n",
    "fig.set_size_inches(8,4)\n",
    "plt.show()"
   ]
  },
  {
   "cell_type": "code",
   "execution_count": null,
   "metadata": {},
   "outputs": [],
   "source": [
    "print(dataset.groupby('age')['totlngth'].median())"
   ]
  },
  {
   "cell_type": "markdown",
   "metadata": {},
   "source": [
    "#### Age / Eye"
   ]
  },
  {
   "cell_type": "code",
   "execution_count": null,
   "metadata": {},
   "outputs": [],
   "source": [
    "sns.violinplot(data=dataset, x='age', y='eye');\n",
    "plt.title('')\n",
    "\n",
    "fig= plt.gcf()\n",
    "fig.set_size_inches(8,4)\n",
    "plt.show()"
   ]
  },
  {
   "cell_type": "code",
   "execution_count": null,
   "metadata": {},
   "outputs": [],
   "source": [
    "print(dataset.groupby('age')['eye'].median())"
   ]
  },
  {
   "cell_type": "markdown",
   "metadata": {},
   "source": [
    "#### Age / Chest"
   ]
  },
  {
   "cell_type": "code",
   "execution_count": null,
   "metadata": {},
   "outputs": [],
   "source": [
    "sns.violinplot(data=dataset, x='age', y='chest');\n",
    "plt.title('')\n",
    "\n",
    "fig= plt.gcf()\n",
    "fig.set_size_inches(8,4)\n",
    "plt.show()"
   ]
  },
  {
   "cell_type": "code",
   "execution_count": null,
   "metadata": {},
   "outputs": [],
   "source": [
    "print(dataset.groupby('age')['chest'].median())"
   ]
  },
  {
   "cell_type": "markdown",
   "metadata": {},
   "source": [
    "#### Age / Belly"
   ]
  },
  {
   "cell_type": "code",
   "execution_count": null,
   "metadata": {},
   "outputs": [],
   "source": [
    "sns.violinplot(data=dataset, x='age', y='belly', hue='sex');\n",
    "plt.title('')\n",
    "\n",
    "fig= plt.gcf()\n",
    "fig.set_size_inches(8,4)\n",
    "plt.show()"
   ]
  },
  {
   "cell_type": "code",
   "execution_count": null,
   "metadata": {},
   "outputs": [],
   "source": [
    "print(dataset.groupby('age')['belly'].median())\n"
   ]
  },
  {
   "cell_type": "markdown",
   "metadata": {},
   "source": [
    "________________________________\n",
    "#### Major Conclusions about EDA\n",
    "\n",
    "*De manière générale, nous pouvons constater qu'avec l'âge, les statistiques ont tendance à augmenter également.*"
   ]
  },
  {
   "cell_type": "markdown",
   "metadata": {},
   "source": [
    "____________________________________\n",
    "____________________________________\n",
    "\n",
    "<center><h2>Machine Learning</h2></center>"
   ]
  },
  {
   "cell_type": "code",
   "execution_count": 9,
   "metadata": {},
   "outputs": [],
   "source": [
    "# Préparation de la nouvelle dataset avec les features qu'on garde :\n",
    "# hdlngth, skullw, totlngth, eye, chest, belly\n",
    "df_ml_features = dataset[['hdlngth', 'skullw', 'totlngth', 'eye', 'chest', 'belly']]\n",
    "df_ml_output = dataset[['age']]\n",
    "\n",
    "#df_ml_features.head()\n",
    "#df_ml_output.head()"
   ]
  },
  {
   "cell_type": "markdown",
   "metadata": {},
   "source": [
    "#### Split Dataset : Train - Test Set"
   ]
  },
  {
   "cell_type": "code",
   "execution_count": 34,
   "metadata": {},
   "outputs": [
    {
     "name": "stdout",
     "output_type": "stream",
     "text": [
      "Train set : (72, 6)\n",
      "Test set : (32, 6)\n"
     ]
    }
   ],
   "source": [
    "# Split in 2 sets: Training / Test\n",
    "# x_train / x_test: feature ; y_train / y_test: output\n",
    "# \n",
    "x_train, x_test, y_train, y_test = train_test_split(df_ml_features,\n",
    "        df_ml_output, train_size=0.7, random_state=42)\n",
    "\n",
    "print('Train set :', x_train.shape)\n",
    "print('Test set :', x_test.shape)"
   ]
  },
  {
   "cell_type": "markdown",
   "metadata": {},
   "source": [
    "## Linear Regression"
   ]
  },
  {
   "cell_type": "markdown",
   "metadata": {},
   "source": [
    "#### Sans Scaling"
   ]
  },
  {
   "cell_type": "code",
   "execution_count": null,
   "metadata": {},
   "outputs": [],
   "source": [
    "# Create the model\n",
    "reg = linear_model.LinearRegression()\n",
    "\n",
    "# Training it\n",
    "reg.fit(x_train, y_train);\n",
    "\n",
    "# Make prediction with model\n",
    "y_pred = reg.predict(x_test)\n",
    "print(y_pred)"
   ]
  },
  {
   "cell_type": "code",
   "execution_count": 12,
   "metadata": {},
   "outputs": [
    {
     "name": "stdout",
     "output_type": "stream",
     "text": [
      "1.7529964275093466\n",
      "0.1986889762523084\n"
     ]
    }
   ],
   "source": [
    "# Calculate the performance with RMSE\n",
    "mse = mean_squared_error\n",
    "print(sqrt(mse(y_test, y_pred)))\n",
    "\n",
    "# Calculate the RSquare\n",
    "print(r2_score(y_test, y_pred))"
   ]
  },
  {
   "cell_type": "markdown",
   "metadata": {},
   "source": [
    "#### Avec Scaling"
   ]
  },
  {
   "cell_type": "code",
   "execution_count": 14,
   "metadata": {},
   "outputs": [],
   "source": [
    "# Scale the x_train set with method : StandardScaler, MinMaxScaler, RobustScaler\n",
    "# using '.fit_transform' on it, then '.transform' on x_test\n",
    "#\n",
    "mms = MinMaxScaler()\n",
    "rs = RobustScaler()\n",
    "sc = StandardScaler()\n",
    "\n",
    "keep_cols = ['hdlngth', 'skullw', 'totlngth', 'eye', 'chest', 'belly']\n",
    "\n",
    "# Application of a MinMaxScaler\n",
    "# x_train = mms.fit_transform(x_train[keep_cols])\n",
    "# x_train = pd.DataFrame(x_train_scl, columns=keep_cols)\n",
    "\n",
    "# x_test_scl = mms.transform(x_test[keep_cols])\n",
    "# x_test_scl = pd.DataFrame(x_test_scl, columns=keep_cols)\n",
    "\n",
    "\n",
    "# Application of a RobustScaler\n",
    "# x_train_scl = rs.fit_transform(x_train[keep_cols])\n",
    "# x_train_scl = pd.DataFrame(x_train_scl, columns=keep_cols)\n",
    "\n",
    "# x_test_scl = rs.transform(x_test[keep_cols])\n",
    "# x_test_scl = pd.DataFrame(x_test_scl, columns=keep_cols)\n",
    "\n",
    "\n",
    "# Application of a StandardScaler\n",
    "x_train_scl = sc.fit_transform(x_train[keep_cols])\n",
    "x_train_scl = pd.DataFrame(x_train_scl, columns=keep_cols)\n",
    "\n",
    "x_test_scl = sc.transform(x_test[keep_cols])\n",
    "x_test_scl = pd.DataFrame(x_test_scl, columns=keep_cols)"
   ]
  },
  {
   "cell_type": "code",
   "execution_count": 15,
   "metadata": {},
   "outputs": [],
   "source": [
    "# Create the model\n",
    "reg = linear_model.LinearRegression()\n",
    "\n",
    "# Training it\n",
    "reg.fit(x_train_scl, y_train);\n",
    "\n",
    "# Make prediction with model\n",
    "y_pred = reg.predict(x_test_scl)\n",
    "#print(y_pred)"
   ]
  },
  {
   "cell_type": "code",
   "execution_count": 16,
   "metadata": {},
   "outputs": [
    {
     "name": "stdout",
     "output_type": "stream",
     "text": [
      "1.7529964275093473\n",
      "0.19868897625230797\n"
     ]
    }
   ],
   "source": [
    "# Calculate the performance with RMSE\n",
    "mse = mean_squared_error\n",
    "print(sqrt(mse(y_test, y_pred)))\n",
    "\n",
    "# Calculate the RSquare\n",
    "print(r2_score(y_test, y_pred))"
   ]
  },
  {
   "cell_type": "markdown",
   "metadata": {},
   "source": [
    "------"
   ]
  },
  {
   "cell_type": "markdown",
   "metadata": {},
   "source": [
    "## Multiple Linear Regression"
   ]
  },
  {
   "cell_type": "markdown",
   "metadata": {},
   "source": [
    "#### Sans Scaling"
   ]
  },
  {
   "cell_type": "code",
   "execution_count": 20,
   "metadata": {},
   "outputs": [
    {
     "data": {
      "text/html": [
       "<style>#sk-container-id-2 {color: black;background-color: white;}#sk-container-id-2 pre{padding: 0;}#sk-container-id-2 div.sk-toggleable {background-color: white;}#sk-container-id-2 label.sk-toggleable__label {cursor: pointer;display: block;width: 100%;margin-bottom: 0;padding: 0.3em;box-sizing: border-box;text-align: center;}#sk-container-id-2 label.sk-toggleable__label-arrow:before {content: \"▸\";float: left;margin-right: 0.25em;color: #696969;}#sk-container-id-2 label.sk-toggleable__label-arrow:hover:before {color: black;}#sk-container-id-2 div.sk-estimator:hover label.sk-toggleable__label-arrow:before {color: black;}#sk-container-id-2 div.sk-toggleable__content {max-height: 0;max-width: 0;overflow: hidden;text-align: left;background-color: #f0f8ff;}#sk-container-id-2 div.sk-toggleable__content pre {margin: 0.2em;color: black;border-radius: 0.25em;background-color: #f0f8ff;}#sk-container-id-2 input.sk-toggleable__control:checked~div.sk-toggleable__content {max-height: 200px;max-width: 100%;overflow: auto;}#sk-container-id-2 input.sk-toggleable__control:checked~label.sk-toggleable__label-arrow:before {content: \"▾\";}#sk-container-id-2 div.sk-estimator input.sk-toggleable__control:checked~label.sk-toggleable__label {background-color: #d4ebff;}#sk-container-id-2 div.sk-label input.sk-toggleable__control:checked~label.sk-toggleable__label {background-color: #d4ebff;}#sk-container-id-2 input.sk-hidden--visually {border: 0;clip: rect(1px 1px 1px 1px);clip: rect(1px, 1px, 1px, 1px);height: 1px;margin: -1px;overflow: hidden;padding: 0;position: absolute;width: 1px;}#sk-container-id-2 div.sk-estimator {font-family: monospace;background-color: #f0f8ff;border: 1px dotted black;border-radius: 0.25em;box-sizing: border-box;margin-bottom: 0.5em;}#sk-container-id-2 div.sk-estimator:hover {background-color: #d4ebff;}#sk-container-id-2 div.sk-parallel-item::after {content: \"\";width: 100%;border-bottom: 1px solid gray;flex-grow: 1;}#sk-container-id-2 div.sk-label:hover label.sk-toggleable__label {background-color: #d4ebff;}#sk-container-id-2 div.sk-serial::before {content: \"\";position: absolute;border-left: 1px solid gray;box-sizing: border-box;top: 0;bottom: 0;left: 50%;z-index: 0;}#sk-container-id-2 div.sk-serial {display: flex;flex-direction: column;align-items: center;background-color: white;padding-right: 0.2em;padding-left: 0.2em;position: relative;}#sk-container-id-2 div.sk-item {position: relative;z-index: 1;}#sk-container-id-2 div.sk-parallel {display: flex;align-items: stretch;justify-content: center;background-color: white;position: relative;}#sk-container-id-2 div.sk-item::before, #sk-container-id-2 div.sk-parallel-item::before {content: \"\";position: absolute;border-left: 1px solid gray;box-sizing: border-box;top: 0;bottom: 0;left: 50%;z-index: -1;}#sk-container-id-2 div.sk-parallel-item {display: flex;flex-direction: column;z-index: 1;position: relative;background-color: white;}#sk-container-id-2 div.sk-parallel-item:first-child::after {align-self: flex-end;width: 50%;}#sk-container-id-2 div.sk-parallel-item:last-child::after {align-self: flex-start;width: 50%;}#sk-container-id-2 div.sk-parallel-item:only-child::after {width: 0;}#sk-container-id-2 div.sk-dashed-wrapped {border: 1px dashed gray;margin: 0 0.4em 0.5em 0.4em;box-sizing: border-box;padding-bottom: 0.4em;background-color: white;}#sk-container-id-2 div.sk-label label {font-family: monospace;font-weight: bold;display: inline-block;line-height: 1.2em;}#sk-container-id-2 div.sk-label-container {text-align: center;}#sk-container-id-2 div.sk-container {/* jupyter's `normalize.less` sets `[hidden] { display: none; }` but bootstrap.min.css set `[hidden] { display: none !important; }` so we also need the `!important` here to be able to override the default hidden behavior on the sphinx rendered scikit-learn.org. See: https://github.com/scikit-learn/scikit-learn/issues/21755 */display: inline-block !important;position: relative;}#sk-container-id-2 div.sk-text-repr-fallback {display: none;}</style><div id=\"sk-container-id-2\" class=\"sk-top-container\"><div class=\"sk-text-repr-fallback\"><pre>LinearRegression()</pre><b>In a Jupyter environment, please rerun this cell to show the HTML representation or trust the notebook. <br />On GitHub, the HTML representation is unable to render, please try loading this page with nbviewer.org.</b></div><div class=\"sk-container\" hidden><div class=\"sk-item\"><div class=\"sk-estimator sk-toggleable\"><input class=\"sk-toggleable__control sk-hidden--visually\" id=\"sk-estimator-id-2\" type=\"checkbox\" checked><label for=\"sk-estimator-id-2\" class=\"sk-toggleable__label sk-toggleable__label-arrow\">LinearRegression</label><div class=\"sk-toggleable__content\"><pre>LinearRegression()</pre></div></div></div></div></div>"
      ],
      "text/plain": [
       "LinearRegression()"
      ]
     },
     "execution_count": 20,
     "metadata": {},
     "output_type": "execute_result"
    }
   ],
   "source": [
    "# Initiate the PolynomialFeatures\n",
    "poly = PolynomialFeatures(degree=2, include_bias=False)\n",
    "x_train = poly.fit_transform(x_train)\n",
    "\n",
    "# Initiate the linear regression\n",
    "poly_reg_model = LinearRegression()\n",
    "poly_reg_model.fit(x_train, y_train)"
   ]
  },
  {
   "cell_type": "code",
   "execution_count": 21,
   "metadata": {},
   "outputs": [
    {
     "name": "stdout",
     "output_type": "stream",
     "text": [
      "2.130175489146722\n",
      "-0.1832317691140699\n"
     ]
    }
   ],
   "source": [
    "# Initiate the polynome for test\n",
    "poly = PolynomialFeatures(degree=2, include_bias=False)\n",
    "poly_test = poly.fit_transform(x_test)\n",
    "\n",
    "# Prediction on Test\n",
    "poly_reg_y_predicted = poly_reg_model.predict(poly_test)\n",
    "\n",
    "poly_reg_rmse = np.sqrt(mean_squared_error(y_test, poly_reg_y_predicted))\n",
    "print(poly_reg_rmse)\n",
    "\n",
    "print(r2_score(y_test, poly_reg_y_predicted))"
   ]
  },
  {
   "cell_type": "markdown",
   "metadata": {},
   "source": [
    "#### Avec Scaling"
   ]
  },
  {
   "cell_type": "code",
   "execution_count": 23,
   "metadata": {},
   "outputs": [],
   "source": [
    "# Scale the x_train set with method : StandardScaler, MinMaxScaler, RobustScaler\n",
    "# using '.fit_transform' on it, then '.transform' on x_test\n",
    "#\n",
    "mms = MinMaxScaler()\n",
    "rs = RobustScaler()\n",
    "sc = StandardScaler()\n",
    "\n",
    "keep_cols = ['hdlngth', 'skullw', 'totlngth', 'eye', 'chest', 'belly']\n",
    "\n",
    "# Application of a MinMaxScaler\n",
    "# x_train = mms.fit_transform(x_train[keep_cols])\n",
    "# x_train = pd.DataFrame(x_train_scl, columns=keep_cols)\n",
    "\n",
    "# x_test_scl = mms.transform(x_test[keep_cols])\n",
    "# x_test_scl = pd.DataFrame(x_test_scl, columns=keep_cols)\n",
    "\n",
    "\n",
    "# Application of a RobustScaler\n",
    "x_train_scl = rs.fit_transform(x_train[keep_cols])\n",
    "x_train_scl = pd.DataFrame(x_train_scl, columns=keep_cols)\n",
    "\n",
    "x_test_scl = rs.transform(x_test[keep_cols])\n",
    "x_test_scl = pd.DataFrame(x_test_scl, columns=keep_cols)\n",
    "\n",
    "\n",
    "# Application of a StandardScaler\n",
    "# x_train = sc.fit_transform(x_train[keep_cols])\n",
    "# x_train = pd.DataFrame(x_train_scl, columns=keep_cols)\n",
    "\n",
    "# x_test_scl = sc.transform(x_test[keep_cols])\n",
    "# x_test_scl = pd.DataFrame(x_test_scl, columns=keep_cols)"
   ]
  },
  {
   "cell_type": "code",
   "execution_count": 24,
   "metadata": {},
   "outputs": [
    {
     "data": {
      "text/html": [
       "<style>#sk-container-id-3 {color: black;background-color: white;}#sk-container-id-3 pre{padding: 0;}#sk-container-id-3 div.sk-toggleable {background-color: white;}#sk-container-id-3 label.sk-toggleable__label {cursor: pointer;display: block;width: 100%;margin-bottom: 0;padding: 0.3em;box-sizing: border-box;text-align: center;}#sk-container-id-3 label.sk-toggleable__label-arrow:before {content: \"▸\";float: left;margin-right: 0.25em;color: #696969;}#sk-container-id-3 label.sk-toggleable__label-arrow:hover:before {color: black;}#sk-container-id-3 div.sk-estimator:hover label.sk-toggleable__label-arrow:before {color: black;}#sk-container-id-3 div.sk-toggleable__content {max-height: 0;max-width: 0;overflow: hidden;text-align: left;background-color: #f0f8ff;}#sk-container-id-3 div.sk-toggleable__content pre {margin: 0.2em;color: black;border-radius: 0.25em;background-color: #f0f8ff;}#sk-container-id-3 input.sk-toggleable__control:checked~div.sk-toggleable__content {max-height: 200px;max-width: 100%;overflow: auto;}#sk-container-id-3 input.sk-toggleable__control:checked~label.sk-toggleable__label-arrow:before {content: \"▾\";}#sk-container-id-3 div.sk-estimator input.sk-toggleable__control:checked~label.sk-toggleable__label {background-color: #d4ebff;}#sk-container-id-3 div.sk-label input.sk-toggleable__control:checked~label.sk-toggleable__label {background-color: #d4ebff;}#sk-container-id-3 input.sk-hidden--visually {border: 0;clip: rect(1px 1px 1px 1px);clip: rect(1px, 1px, 1px, 1px);height: 1px;margin: -1px;overflow: hidden;padding: 0;position: absolute;width: 1px;}#sk-container-id-3 div.sk-estimator {font-family: monospace;background-color: #f0f8ff;border: 1px dotted black;border-radius: 0.25em;box-sizing: border-box;margin-bottom: 0.5em;}#sk-container-id-3 div.sk-estimator:hover {background-color: #d4ebff;}#sk-container-id-3 div.sk-parallel-item::after {content: \"\";width: 100%;border-bottom: 1px solid gray;flex-grow: 1;}#sk-container-id-3 div.sk-label:hover label.sk-toggleable__label {background-color: #d4ebff;}#sk-container-id-3 div.sk-serial::before {content: \"\";position: absolute;border-left: 1px solid gray;box-sizing: border-box;top: 0;bottom: 0;left: 50%;z-index: 0;}#sk-container-id-3 div.sk-serial {display: flex;flex-direction: column;align-items: center;background-color: white;padding-right: 0.2em;padding-left: 0.2em;position: relative;}#sk-container-id-3 div.sk-item {position: relative;z-index: 1;}#sk-container-id-3 div.sk-parallel {display: flex;align-items: stretch;justify-content: center;background-color: white;position: relative;}#sk-container-id-3 div.sk-item::before, #sk-container-id-3 div.sk-parallel-item::before {content: \"\";position: absolute;border-left: 1px solid gray;box-sizing: border-box;top: 0;bottom: 0;left: 50%;z-index: -1;}#sk-container-id-3 div.sk-parallel-item {display: flex;flex-direction: column;z-index: 1;position: relative;background-color: white;}#sk-container-id-3 div.sk-parallel-item:first-child::after {align-self: flex-end;width: 50%;}#sk-container-id-3 div.sk-parallel-item:last-child::after {align-self: flex-start;width: 50%;}#sk-container-id-3 div.sk-parallel-item:only-child::after {width: 0;}#sk-container-id-3 div.sk-dashed-wrapped {border: 1px dashed gray;margin: 0 0.4em 0.5em 0.4em;box-sizing: border-box;padding-bottom: 0.4em;background-color: white;}#sk-container-id-3 div.sk-label label {font-family: monospace;font-weight: bold;display: inline-block;line-height: 1.2em;}#sk-container-id-3 div.sk-label-container {text-align: center;}#sk-container-id-3 div.sk-container {/* jupyter's `normalize.less` sets `[hidden] { display: none; }` but bootstrap.min.css set `[hidden] { display: none !important; }` so we also need the `!important` here to be able to override the default hidden behavior on the sphinx rendered scikit-learn.org. See: https://github.com/scikit-learn/scikit-learn/issues/21755 */display: inline-block !important;position: relative;}#sk-container-id-3 div.sk-text-repr-fallback {display: none;}</style><div id=\"sk-container-id-3\" class=\"sk-top-container\"><div class=\"sk-text-repr-fallback\"><pre>LinearRegression()</pre><b>In a Jupyter environment, please rerun this cell to show the HTML representation or trust the notebook. <br />On GitHub, the HTML representation is unable to render, please try loading this page with nbviewer.org.</b></div><div class=\"sk-container\" hidden><div class=\"sk-item\"><div class=\"sk-estimator sk-toggleable\"><input class=\"sk-toggleable__control sk-hidden--visually\" id=\"sk-estimator-id-3\" type=\"checkbox\" checked><label for=\"sk-estimator-id-3\" class=\"sk-toggleable__label sk-toggleable__label-arrow\">LinearRegression</label><div class=\"sk-toggleable__content\"><pre>LinearRegression()</pre></div></div></div></div></div>"
      ],
      "text/plain": [
       "LinearRegression()"
      ]
     },
     "execution_count": 24,
     "metadata": {},
     "output_type": "execute_result"
    }
   ],
   "source": [
    "# Initiate the PolynomialFeatures\n",
    "poly = PolynomialFeatures(degree=2, include_bias=False)\n",
    "x_train_scl = poly.fit_transform(x_train_scl)\n",
    "\n",
    "# Initiate the linear regression\n",
    "poly_reg_model = LinearRegression()\n",
    "poly_reg_model.fit(x_train_scl, y_train)"
   ]
  },
  {
   "cell_type": "code",
   "execution_count": 25,
   "metadata": {},
   "outputs": [
    {
     "name": "stdout",
     "output_type": "stream",
     "text": [
      "2.1301754891467786\n",
      "-0.18323176911413253\n"
     ]
    }
   ],
   "source": [
    "# Initiate the polynome for test\n",
    "poly = PolynomialFeatures(degree=2, include_bias=False)\n",
    "poly_test = poly.fit_transform(x_test_scl)\n",
    "\n",
    "# Prediction on Test\n",
    "poly_reg_y_predicted = poly_reg_model.predict(poly_test)\n",
    "\n",
    "poly_reg_rmse = np.sqrt(mean_squared_error(y_test, poly_reg_y_predicted))\n",
    "print(poly_reg_rmse)\n",
    "\n",
    "print(r2_score(y_test, poly_reg_y_predicted))"
   ]
  },
  {
   "cell_type": "markdown",
   "metadata": {},
   "source": [
    "## KNN Regressor"
   ]
  },
  {
   "cell_type": "markdown",
   "metadata": {},
   "source": [
    "#### Sans Scaling"
   ]
  },
  {
   "cell_type": "code",
   "execution_count": 27,
   "metadata": {},
   "outputs": [
    {
     "name": "stdout",
     "output_type": "stream",
     "text": [
      "RMSE value for k=  1 is: 3.031088913245535\n",
      "RMSE value for k=  2 is: 2.1596440678963744\n",
      "RMSE value for k=  3 is: 1.9445436482630059\n",
      "RMSE value for k=  4 is: 1.888493116217266\n",
      "RMSE value for k=  5 is: 1.8214005600086984\n",
      "RMSE value for k=  6 is: 1.7743836958222987\n",
      "RMSE value for k=  7 is: 1.7113069358158486\n",
      "RMSE value for k=  8 is: 1.6893797400969386\n",
      "RMSE value for k=  9 is: 1.6401831048038356\n",
      "RMSE value for k=  10 is: 1.6632047378479897\n",
      "RMSE value for k=  11 is: 1.636521457035881\n",
      "RMSE value for k=  12 is: 1.6302665724421335\n",
      "RMSE value for k=  13 is: 1.6422333796914435\n",
      "RMSE value for k=  14 is: 1.6356596996506407\n",
      "RMSE value for k=  15 is: 1.6408415862328427\n",
      "RMSE value for k=  16 is: 1.6722400302438643\n",
      "RMSE value for k=  17 is: 1.6433782405528228\n",
      "RMSE value for k=  18 is: 1.6411237116796031\n",
      "RMSE value for k=  19 is: 1.6232277785488491\n",
      "RMSE value for k=  20 is: 1.6027320424824607\n",
      "RMSE value for k=  21 is: 1.6234839430615522\n",
      "RMSE value for k=  22 is: 1.6475705254597255\n",
      "RMSE value for k=  23 is: 1.6331137411378864\n",
      "RMSE value for k=  24 is: 1.6250500793565308\n",
      "RMSE value for k=  25 is: 1.6410667262485092\n",
      "RMSE value for k=  26 is: 1.6524479778578893\n",
      "RMSE value for k=  27 is: 1.6483302021798854\n",
      "RMSE value for k=  28 is: 1.6534499338272899\n",
      "RMSE value for k=  29 is: 1.6574831212610162\n",
      "RMSE value for k=  30 is: 1.6763779572505586\n",
      "RMSE value for k=  31 is: 1.6909638496712167\n",
      "RMSE value for k=  32 is: 1.7011438448465712\n",
      "RMSE value for k=  33 is: 1.7035940105555474\n",
      "RMSE value for k=  34 is: 1.6993329522783231\n",
      "RMSE value for k=  35 is: 1.7189519825659318\n",
      "RMSE value for k=  36 is: 1.7295919267343645\n",
      "RMSE value for k=  37 is: 1.7421560615737077\n",
      "RMSE value for k=  38 is: 1.7514400980043556\n",
      "RMSE value for k=  39 is: 1.7619986429109378\n",
      "RMSE value for k=  40 is: 1.7688052111524322\n"
     ]
    }
   ],
   "source": [
    "# Error rate depending the K\n",
    "\n",
    "rmse_val = [] #to store rmse values for different k\n",
    "for k in range(40):\n",
    "    k = k+1\n",
    "    model = neighbors.KNeighborsRegressor(n_neighbors = k)\n",
    "\n",
    "    model.fit(x_train, y_train)  #fit the model\n",
    "    pred=model.predict(x_test) #make prediction on test set\n",
    "\n",
    "    error = sqrt(mean_squared_error(y_test, pred)) #calculate rmse\n",
    "    rmse_val.append(error) #store rmse values\n",
    "    print('RMSE value for k= ' , k , 'is:', error)"
   ]
  },
  {
   "cell_type": "code",
   "execution_count": 28,
   "metadata": {},
   "outputs": [
    {
     "data": {
      "text/plain": [
       "<AxesSubplot:>"
      ]
     },
     "execution_count": 28,
     "metadata": {},
     "output_type": "execute_result"
    },
    {
     "data": {
      "image/png": "[encoded data removed]",
      "text/plain": [
       "<Figure size 640x480 with 1 Axes>"
      ]
     },
     "metadata": {},
     "output_type": "display_data"
    }
   ],
   "source": [
    "#plotting the rmse values against k values\n",
    "curve = pd.DataFrame(rmse_val) #elbow curve \n",
    "curve.plot()"
   ]
  },
  {
   "cell_type": "code",
   "execution_count": 31,
   "metadata": {},
   "outputs": [
    {
     "name": "stdout",
     "output_type": "stream",
     "text": [
      "0.10983005245521227\n",
      "{'metric': 'manhattan', 'n_neighbors': 9}\n"
     ]
    }
   ],
   "source": [
    "params = {'n_neighbors': np.arange(1,41),\n",
    "               'metric': ['euclidean', 'manhattan']}\n",
    "\n",
    "knn = neighbors.KNeighborsRegressor()\n",
    "\n",
    "model = GridSearchCV(knn, params, cv=5)\n",
    "model.fit(x_train, y_train)\n",
    "\n",
    "print(model.best_score_)\n",
    "print(model.best_params_)"
   ]
  },
  {
   "cell_type": "code",
   "execution_count": 32,
   "metadata": {},
   "outputs": [],
   "source": [
    "model = model.best_estimator_\n",
    "pred = model.predict(x_test) #make prediction on test set\n",
    "score = model.score(x_test, y_test)"
   ]
  },
  {
   "cell_type": "code",
   "execution_count": 33,
   "metadata": {},
   "outputs": [
    {
     "name": "stdout",
     "output_type": "stream",
     "text": [
      "0.19589294752693442\n",
      "1.7560521449554023\n"
     ]
    }
   ],
   "source": [
    "print(score)\n",
    "print(sqrt(mean_squared_error(y_test, pred)))"
   ]
  },
  {
   "cell_type": "markdown",
   "metadata": {},
   "source": [
    "#### Avec Scaling"
   ]
  },
  {
   "cell_type": "code",
   "execution_count": 35,
   "metadata": {},
   "outputs": [],
   "source": [
    "# Scale the x_train set with method : StandardScaler, MinMaxScaler, RobustScaler\n",
    "# using '.fit_transform' on it, then '.transform' on x_test\n",
    "#\n",
    "mms = MinMaxScaler()\n",
    "rs = RobustScaler()\n",
    "sc = StandardScaler()\n",
    "\n",
    "keep_cols = ['hdlngth', 'skullw', 'totlngth', 'eye', 'chest', 'belly']\n",
    "\n",
    "# Application of a MinMaxScaler\n",
    "# x_train = mms.fit_transform(x_train[keep_cols])\n",
    "# x_train = pd.DataFrame(x_train_scl, columns=keep_cols)\n",
    "\n",
    "# x_test_scl = mms.transform(x_test[keep_cols])\n",
    "# x_test_scl = pd.DataFrame(x_test_scl, columns=keep_cols)\n",
    "\n",
    "\n",
    "# Application of a RobustScaler\n",
    "# x_train_scl = rs.fit_transform(x_train[keep_cols])\n",
    "# x_train_scl = pd.DataFrame(x_train_scl, columns=keep_cols)\n",
    "\n",
    "# x_test_scl = rs.transform(x_test[keep_cols])\n",
    "# x_test_scl = pd.DataFrame(x_test_scl, columns=keep_cols)\n",
    "\n",
    "\n",
    "# Application of a StandardScaler\n",
    "x_train_scl = sc.fit_transform(x_train[keep_cols])\n",
    "x_train_scl = pd.DataFrame(x_train_scl, columns=keep_cols)\n",
    "\n",
    "x_test_scl = sc.transform(x_test[keep_cols])\n",
    "x_test_scl = pd.DataFrame(x_test_scl, columns=keep_cols)"
   ]
  },
  {
   "cell_type": "code",
   "execution_count": 36,
   "metadata": {},
   "outputs": [
    {
     "name": "stdout",
     "output_type": "stream",
     "text": [
      "RMSE value for k=  1 is: 2.404423007708918\n",
      "RMSE value for k=  2 is: 2.023301757029831\n",
      "RMSE value for k=  3 is: 1.8503002759312097\n",
      "RMSE value for k=  4 is: 1.8915932438026946\n",
      "RMSE value for k=  5 is: 1.8560711193270587\n",
      "RMSE value for k=  6 is: 1.733052861923785\n",
      "RMSE value for k=  7 is: 1.6292135325652919\n",
      "RMSE value for k=  8 is: 1.5508943992096949\n",
      "RMSE value for k=  9 is: 1.5812608268306452\n",
      "RMSE value for k=  10 is: 1.5846923991740478\n",
      "RMSE value for k=  11 is: 1.600700389060111\n",
      "RMSE value for k=  12 is: 1.6085573030583096\n",
      "RMSE value for k=  13 is: 1.6188721510422366\n",
      "RMSE value for k=  14 is: 1.6215131349880505\n",
      "RMSE value for k=  15 is: 1.612623810922918\n",
      "RMSE value for k=  16 is: 1.6161492742202064\n",
      "RMSE value for k=  17 is: 1.6111500545479605\n",
      "RMSE value for k=  18 is: 1.619530205466929\n",
      "RMSE value for k=  19 is: 1.6155837345442978\n",
      "RMSE value for k=  20 is: 1.6263455967290594\n",
      "RMSE value for k=  21 is: 1.6313868034572092\n",
      "RMSE value for k=  22 is: 1.6351794957958208\n",
      "RMSE value for k=  23 is: 1.646443150327086\n",
      "RMSE value for k=  24 is: 1.6428638824050856\n",
      "RMSE value for k=  25 is: 1.6465721970202218\n",
      "RMSE value for k=  26 is: 1.655508444575011\n",
      "RMSE value for k=  27 is: 1.660869547652972\n",
      "RMSE value for k=  28 is: 1.65620788356155\n",
      "RMSE value for k=  29 is: 1.646540440474065\n",
      "RMSE value for k=  30 is: 1.663601347812764\n",
      "RMSE value for k=  31 is: 1.6630608323046665\n",
      "RMSE value for k=  32 is: 1.6596920306848346\n",
      "RMSE value for k=  33 is: 1.6865038467127917\n",
      "RMSE value for k=  34 is: 1.7088985125798364\n",
      "RMSE value for k=  35 is: 1.7341630340228766\n",
      "RMSE value for k=  36 is: 1.7366735200156236\n",
      "RMSE value for k=  37 is: 1.7426866385652204\n",
      "RMSE value for k=  38 is: 1.7629246703565642\n",
      "RMSE value for k=  39 is: 1.7752938659056299\n",
      "RMSE value for k=  40 is: 1.7892801450583415\n"
     ]
    }
   ],
   "source": [
    "# Error rate depending the K\n",
    "\n",
    "rmse_val = [] #to store rmse values for different k\n",
    "for k in range(40):\n",
    "    k = k+1\n",
    "    model = neighbors.KNeighborsRegressor(n_neighbors = k)\n",
    "\n",
    "    model.fit(x_train_scl, y_train)  #fit the model\n",
    "    pred = model.predict(x_test_scl) #make prediction on test set\n",
    "\n",
    "    error = sqrt(mean_squared_error(y_test, pred)) #calculate rmse\n",
    "    rmse_val.append(error) #store rmse values\n",
    "    print('RMSE value for k= ' , k , 'is:', error)"
   ]
  },
  {
   "cell_type": "code",
   "execution_count": 37,
   "metadata": {},
   "outputs": [
    {
     "data": {
      "text/plain": [
       "<AxesSubplot:>"
      ]
     },
     "execution_count": 37,
     "metadata": {},
     "output_type": "execute_result"
    },
    {
     "data": {
      "image/png": "[encoded data removed]",
      "text/plain": [
       "<Figure size 640x480 with 1 Axes>"
      ]
     },
     "metadata": {},
     "output_type": "display_data"
    }
   ],
   "source": [
    "#plotting the rmse values against k values\n",
    "curve = pd.DataFrame(rmse_val) #elbow curve \n",
    "curve.plot()"
   ]
  },
  {
   "cell_type": "code",
   "execution_count": 38,
   "metadata": {},
   "outputs": [
    {
     "name": "stdout",
     "output_type": "stream",
     "text": [
      "0.1479685250140204\n",
      "{'metric': 'manhattan', 'n_neighbors': 7}\n"
     ]
    }
   ],
   "source": [
    "params = {'n_neighbors': np.arange(1,41),\n",
    "               'metric': ['euclidean', 'manhattan']}\n",
    "\n",
    "knn = neighbors.KNeighborsRegressor()\n",
    "\n",
    "model = GridSearchCV(knn, params, cv=5)\n",
    "model.fit(x_train_scl, y_train)\n",
    "\n",
    "print(model.best_score_)\n",
    "print(model.best_params_)"
   ]
  },
  {
   "cell_type": "code",
   "execution_count": 39,
   "metadata": {},
   "outputs": [],
   "source": [
    "model = model.best_estimator_\n",
    "pred = model.predict(x_test_scl) #make prediction on test set\n",
    "score = model.score(x_test_scl, y_test)"
   ]
  },
  {
   "cell_type": "code",
   "execution_count": 41,
   "metadata": {},
   "outputs": [
    {
     "name": "stdout",
     "output_type": "stream",
     "text": [
      "0.14904143475572051\n",
      "1.8064863290772109\n"
     ]
    }
   ],
   "source": [
    "print(score)\n",
    "print(sqrt(mean_squared_error(y_test, pred)))"
   ]
  },
  {
   "cell_type": "markdown",
   "metadata": {},
   "source": [
    "------------------------\n",
    "# Major Conclusion about ML\n",
    "\n",
    "*Les meilleures paramètres pour notre dataset :*\n",
    "- Train_set : 0.7, random_state=42  \n",
    "- Modèle : KNN Regressor : N = 7, Manhattan  \n",
    "- Standard Scaler "
   ]
  },
  {
   "cell_type": "markdown",
   "metadata": {},
   "source": [
    "#### End ML"
   ]
  },
  {
   "cell_type": "markdown",
   "metadata": {},
   "source": [
    "____________________________________\n",
    "____________________________________"
   ]
  },
  {
   "cell_type": "markdown",
   "metadata": {},
   "source": [
    "<H2><center>Saving the Model and Params (Label Encoder and Scaler)</center></H2>"
   ]
  },
  {
   "cell_type": "code",
   "execution_count": 42,
   "metadata": {},
   "outputs": [
    {
     "data": {
      "text/plain": [
       "['opossum_joblib']"
      ]
     },
     "execution_count": 42,
     "metadata": {},
     "output_type": "execute_result"
    }
   ],
   "source": [
    "# Using Pickle (for OOP) or Joblib (Numpy Array / Big Data)\n",
    "# Create a file to save it -\n",
    "param_ml = {\n",
    "              \"Scaler\": sc,\n",
    "              \"Model\": model\n",
    "            }\n",
    "# Use .dump() to save\n",
    "#\n",
    "joblib.dump(param_ml, 'model/opossum_joblib')"
   ]
  },
  {
   "cell_type": "markdown",
   "metadata": {},
   "source": [
    "____________________________________\n",
    "____________________________________"
   ]
  },
  {
   "cell_type": "markdown",
   "metadata": {},
   "source": [
    "<H1><center>The End</center></H1>"
   ]
  },
  {
   "cell_type": "markdown",
   "metadata": {},
   "source": [
    "</br>  \n",
    "<p style='text-align: right;'><i>+-+-+-+-+ Template by : Charley Lebarbier +-+-+-+-+</i></p>\n"
   ]
  }
 ],
 "metadata": {
  "kernelspec": {
   "display_name": "Python 3.10.6 64-bit",
   "language": "python",
   "name": "python3"
  },
  "language_info": {
   "codemirror_mode": {
    "name": "ipython",
    "version": 3
   },
   "file_extension": ".py",
   "mimetype": "text/x-python",
   "name": "python",
   "nbconvert_exporter": "python",
   "pygments_lexer": "ipython3",
   "version": "3.10.6"
  },
  "orig_nbformat": 4,
  "vscode": {
   "interpreter": {
    "hash": "916dbcbb3f70747c44a77c7bcd40155683ae19c65e1c03b4aa3499c5328201f1"
   }
  }
 },
 "nbformat": 4,
 "nbformat_minor": 2
}
